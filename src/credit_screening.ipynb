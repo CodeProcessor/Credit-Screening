{
 "cells": [
  {
   "cell_type": "code",
   "execution_count": 4,
   "metadata": {},
   "outputs": [
    {
     "name": "stderr",
     "output_type": "stream",
     "text": [
      "Using TensorFlow backend.\n"
     ]
    }
   ],
   "source": [
    "import logging\n",
    "import pandas as pd\n",
    "import tensorflow as tf\n",
    "from sklearn.model_selection import KFold\n",
    "import numpy as np\n",
    "\n",
    "from keras.models import Sequential\n",
    "from keras.layers import Conv1D, MaxPooling1D\n",
    "from keras.layers import Activation, Dropout, Flatten, Dense\n",
    "\n",
    "physical_devices = tf.config.experimental.list_physical_devices('GPU')\n",
    "assert len(physical_devices) > 0, \"Not enough GPU hardware devices available\"\n",
    "config = tf.config.experimental.set_memory_growth(physical_devices[0], True)"
   ]
  },
  {
   "cell_type": "code",
   "execution_count": 5,
   "metadata": {},
   "outputs": [
    {
     "name": "stdout",
     "output_type": "stream",
     "text": [
      "+\n"
     ]
    }
   ],
   "source": [
    "# Load data\n",
    "df = pd.read_csv('../data/crx.data')\n",
    "logging.debug(df.head())\n",
    "print(df['label'].values[0])\n",
    "\n",
    "\n",
    "df.replace('?', np.nan, inplace=True)\n",
    "df['label'].replace('+', 1, inplace=True)\n",
    "df['label'].replace('-', 0, inplace=True)\n",
    "df.dropna(how='any', inplace=True)"
   ]
  },
  {
   "cell_type": "code",
   "execution_count": 6,
   "metadata": {},
   "outputs": [
    {
     "name": "stdout",
     "output_type": "stream",
     "text": [
      "      A2     A3    A8    A14  A15  label  A1_a  A1_b  A4_l  A4_u  ...  A11_19  \\\n",
      "0  30.83  0.000  1.25  00202    0      1     0     1     0     1  ...       0   \n",
      "1  58.67  4.460  3.04  00043  560      1     1     0     0     1  ...       0   \n",
      "2  24.50  0.500  1.50  00280  824      1     1     0     0     1  ...       0   \n",
      "3  27.83  1.540  3.75  00100    3      1     0     1     0     1  ...       0   \n",
      "4  20.17  5.625  1.71  00120    0      1     0     1     0     1  ...       0   \n",
      "\n",
      "   A11_20  A11_23  A11_40  A11_67  A12_f  A12_t  A13_g  A13_p  A13_s  \n",
      "0       0       0       0       0      1      0      1      0      0  \n",
      "1       0       0       0       0      1      0      1      0      0  \n",
      "2       0       0       0       0      1      0      1      0      0  \n",
      "3       0       0       0       0      0      1      1      0      0  \n",
      "4       0       0       0       0      1      0      0      0      1  \n",
      "\n",
      "[5 rows x 69 columns]\n",
      "(653, 69)\n"
     ]
    }
   ],
   "source": [
    "# Convert data\n",
    "df = pd.get_dummies(df, columns=['A1', 'A4', 'A5', 'A6', 'A7', 'A9', 'A10', 'A11', 'A12', 'A13'])\n",
    "for col in df.columns:\n",
    "    if col == 'label':\n",
    "        continue\n",
    "    df[col].astype(float)\n",
    "print(df.head())\n",
    "print(df.shape)"
   ]
  },
  {
   "cell_type": "code",
   "execution_count": 16,
   "metadata": {},
   "outputs": [],
   "source": [
    "def create_model2(optimizer='rmsprop', init='glorot_uniform'):\n",
    "    model = Sequential()\n",
    "    model.add(Conv1D(filters=8,\n",
    "                     kernel_size=2,\n",
    "                     input_shape=(68, 1),\n",
    "                     kernel_initializer=init,\n",
    "                     activation='relu'\n",
    "                     ))\n",
    "    model.add(MaxPooling1D())\n",
    "\n",
    "    model.add(Conv1D(8, 2, activation='relu'))\n",
    "    model.add(MaxPooling1D())\n",
    "\n",
    "    model.add(Flatten())  # this converts our 3D feature maps to 1D feature vectors\n",
    "    model.add(Dense(units=8, activation='relu'))\n",
    "    model.add(Dropout(0.5))\n",
    "    model.add(Dense(units=1, activation='sigmoid'))\n",
    "    # opt = Keras.optimizers.SGD(lr=0.01, momentum=0.9)\n",
    "    model.compile(loss='binary_crossentropy', optimizer='SGD', metrics=['accuracy'])\n",
    "\n",
    "    return model"
   ]
  },
  {
   "cell_type": "code",
   "execution_count": 52,
   "metadata": {},
   "outputs": [],
   "source": [
    "def train_with_kfold(model):\n",
    "    n_folds = 5\n",
    "\n",
    "    train_data = df.drop(['label'],axis=1).values\n",
    "    train_label = df['label'].values\n",
    "\n",
    "    kfold = KFold(n_folds, shuffle=True, random_state=1)\n",
    "    for train_ix, test_ix in kfold.split(train_data):\n",
    "        # select rows for train and test\n",
    "        trainX, trainY, testX, testY = train_data[train_ix], train_label[train_ix], \\\n",
    "                                       train_data[test_ix], train_label[test_ix]\n",
    "\n",
    "        # fit model\n",
    "        trainX = np.asarray(trainX, dtype=float)\n",
    "        testX = np.asarray(testX, dtype=float)\n",
    "\n",
    "        trainX = np.expand_dims(trainX, axis=2)\n",
    "        testX = np.expand_dims(testX, axis=2)\n",
    "\n",
    "        trainY = np.asarray(trainY)\n",
    "        testY = np.asarray(testY)\n",
    "\n",
    "        history = model.fit(trainX, trainY, epochs=10, batch_size=32, validation_data=(testX, testY), verbose=0)\n",
    "        \n",
    "        evaluate(model, testX, testY)\n",
    "        "
   ]
  },
  {
   "cell_type": "code",
   "execution_count": 53,
   "metadata": {},
   "outputs": [],
   "source": [
    "def evaluate(model, testX, testY):\n",
    "    # evaluate model\n",
    "    _, acc = model.evaluate(testX, testY, verbose=0)\n",
    "    print('Accuracy> %.3f' % (acc * 100.0))\n",
    "#     print(testX[:1])\n",
    "#     y_pred = model.predict(testX)\n",
    "#     print(y_pred)\n",
    "#     f1 = f1_score(testY, y_pred , average=\"macro\")\n",
    "#     print(\"F1 score> {}\".format(f1))"
   ]
  },
  {
   "cell_type": "code",
   "execution_count": 56,
   "metadata": {},
   "outputs": [],
   "source": [
    "def create_model():\n",
    "    inputs=tf.keras.Input(shape=68)\n",
    "\n",
    "    x = tf.keras.layers.Dense(30, input_dim=68, activation=tf.nn.relu)(inputs)\n",
    "    x = tf.keras.layers.Dense(100, activation=tf.nn.relu)(x)\n",
    "    x = tf.keras.layers.Dense(200, activation=tf.nn.relu)(x)\n",
    "    output = tf.keras.layers.Dense(1, activation=tf.nn.softmax)(x)\n",
    "\n",
    "    model = tf.keras.Model(inputs=inputs, outputs=output)\n",
    "    logging.info(model.summary())\n",
    "\n",
    "    # Compile model\n",
    "    opt = tf.keras.optimizers.SGD(lr=0.01, momentum=0.9)\n",
    "    model.compile(optimizer=opt, loss='categorical_crossentropy', metrics=['accuracy'])\n",
    "\n",
    "    return model"
   ]
  },
  {
   "cell_type": "code",
   "execution_count": 57,
   "metadata": {},
   "outputs": [
    {
     "name": "stdout",
     "output_type": "stream",
     "text": [
      "Model: \"model_14\"\n",
      "_________________________________________________________________\n",
      "Layer (type)                 Output Shape              Param #   \n",
      "=================================================================\n",
      "input_15 (InputLayer)        [(None, 68)]              0         \n",
      "_________________________________________________________________\n",
      "dense_32 (Dense)             (None, 30)                2070      \n",
      "_________________________________________________________________\n",
      "dense_33 (Dense)             (None, 100)               3100      \n",
      "_________________________________________________________________\n",
      "dense_34 (Dense)             (None, 200)               20200     \n",
      "_________________________________________________________________\n",
      "dense_35 (Dense)             (None, 1)                 201       \n",
      "=================================================================\n",
      "Total params: 25,571\n",
      "Trainable params: 25,571\n",
      "Non-trainable params: 0\n",
      "_________________________________________________________________\n",
      "Accuracy> 54.962\n",
      "Accuracy> 57.252\n",
      "Accuracy> 50.382\n",
      "Accuracy> 56.154\n",
      "Accuracy> 54.615\n"
     ]
    }
   ],
   "source": [
    "from sklearn.metrics import f1_score\n",
    "model = create_model()\n",
    "train_with_kfold(model)"
   ]
  },
  {
   "cell_type": "code",
   "execution_count": null,
   "metadata": {},
   "outputs": [],
   "source": []
  },
  {
   "cell_type": "code",
   "execution_count": null,
   "metadata": {},
   "outputs": [],
   "source": []
  }
 ],
 "metadata": {
  "kernelspec": {
   "display_name": "Python 3",
   "language": "python",
   "name": "python3"
  },
  "language_info": {
   "codemirror_mode": {
    "name": "ipython",
    "version": 3
   },
   "file_extension": ".py",
   "mimetype": "text/x-python",
   "name": "python",
   "nbconvert_exporter": "python",
   "pygments_lexer": "ipython3",
   "version": "3.7.6"
  }
 },
 "nbformat": 4,
 "nbformat_minor": 4
}
